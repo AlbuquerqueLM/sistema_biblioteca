{
  "cells": [
    {
      "cell_type": "markdown",
      "metadata": {
        "id": "view-in-github",
        "colab_type": "text"
      },
      "source": [
        "<a href=\"https://colab.research.google.com/github/AlbuquerqueLM/sistema_biblioteca/blob/main/biblioteca.ipynb\" target=\"_parent\"><img src=\"https://colab.research.google.com/assets/colab-badge.svg\" alt=\"Open In Colab\"/></a>"
      ]
    },
    {
      "cell_type": "code",
      "execution_count": 2,
      "metadata": {
        "colab": {
          "base_uri": "https://localhost:8080/",
          "height": 425
        },
        "id": "KVJbP7knzgLu",
        "outputId": "1e17da7e-bc12-4c48-9b6c-1f782bb81943"
      },
      "outputs": [
        {
          "output_type": "stream",
          "name": "stdout",
          "text": [
            "===== BIBLIOTECA DO ALBUQUERQUE =====\n",
            "1. Cadastrar Livro\n",
            "2. Listar Livros\n",
            "3. Buscar Livro por Título\n",
            "4. Gerar Gráfico de Livros por Gênero\n",
            "5. Sair\n"
          ]
        },
        {
          "output_type": "error",
          "ename": "KeyboardInterrupt",
          "evalue": "Interrupted by user",
          "traceback": [
            "\u001b[0;31m---------------------------------------------------------------------------\u001b[0m",
            "\u001b[0;31mKeyboardInterrupt\u001b[0m                         Traceback (most recent call last)",
            "\u001b[0;32m/tmp/ipython-input-3594941945.py\u001b[0m in \u001b[0;36m<cell line: 0>\u001b[0;34m()\u001b[0m\n\u001b[1;32m    106\u001b[0m \u001b[0;34m\u001b[0m\u001b[0m\n\u001b[1;32m    107\u001b[0m \u001b[0;34m\u001b[0m\u001b[0m\n\u001b[0;32m--> 108\u001b[0;31m \u001b[0mmain\u001b[0m\u001b[0;34m(\u001b[0m\u001b[0;34m)\u001b[0m\u001b[0;34m\u001b[0m\u001b[0;34m\u001b[0m\u001b[0m\n\u001b[0m",
            "\u001b[0;32m/tmp/ipython-input-3594941945.py\u001b[0m in \u001b[0;36mmain\u001b[0;34m()\u001b[0m\n\u001b[1;32m     89\u001b[0m         \u001b[0mprint\u001b[0m\u001b[0;34m(\u001b[0m\u001b[0;34m\"5. Sair\"\u001b[0m\u001b[0;34m)\u001b[0m\u001b[0;34m\u001b[0m\u001b[0;34m\u001b[0m\u001b[0m\n\u001b[1;32m     90\u001b[0m \u001b[0;34m\u001b[0m\u001b[0m\n\u001b[0;32m---> 91\u001b[0;31m         \u001b[0mescolha\u001b[0m \u001b[0;34m=\u001b[0m \u001b[0minput\u001b[0m\u001b[0;34m(\u001b[0m\u001b[0;34m\"Escolha uma opção: \"\u001b[0m\u001b[0;34m)\u001b[0m\u001b[0;34m\u001b[0m\u001b[0;34m\u001b[0m\u001b[0m\n\u001b[0m\u001b[1;32m     92\u001b[0m \u001b[0;34m\u001b[0m\u001b[0m\n\u001b[1;32m     93\u001b[0m         \u001b[0;32mif\u001b[0m \u001b[0mescolha\u001b[0m \u001b[0;34m==\u001b[0m \u001b[0;34m'1'\u001b[0m\u001b[0;34m:\u001b[0m\u001b[0;34m\u001b[0m\u001b[0;34m\u001b[0m\u001b[0m\n",
            "\u001b[0;32m/usr/local/lib/python3.12/dist-packages/ipykernel/kernelbase.py\u001b[0m in \u001b[0;36mraw_input\u001b[0;34m(self, prompt)\u001b[0m\n\u001b[1;32m   1175\u001b[0m                 \u001b[0;34m\"raw_input was called, but this frontend does not support input requests.\"\u001b[0m\u001b[0;34m\u001b[0m\u001b[0;34m\u001b[0m\u001b[0m\n\u001b[1;32m   1176\u001b[0m             )\n\u001b[0;32m-> 1177\u001b[0;31m         return self._input_request(\n\u001b[0m\u001b[1;32m   1178\u001b[0m             \u001b[0mstr\u001b[0m\u001b[0;34m(\u001b[0m\u001b[0mprompt\u001b[0m\u001b[0;34m)\u001b[0m\u001b[0;34m,\u001b[0m\u001b[0;34m\u001b[0m\u001b[0;34m\u001b[0m\u001b[0m\n\u001b[1;32m   1179\u001b[0m             \u001b[0mself\u001b[0m\u001b[0;34m.\u001b[0m\u001b[0m_parent_ident\u001b[0m\u001b[0;34m[\u001b[0m\u001b[0;34m\"shell\"\u001b[0m\u001b[0;34m]\u001b[0m\u001b[0;34m,\u001b[0m\u001b[0;34m\u001b[0m\u001b[0;34m\u001b[0m\u001b[0m\n",
            "\u001b[0;32m/usr/local/lib/python3.12/dist-packages/ipykernel/kernelbase.py\u001b[0m in \u001b[0;36m_input_request\u001b[0;34m(self, prompt, ident, parent, password)\u001b[0m\n\u001b[1;32m   1217\u001b[0m             \u001b[0;32mexcept\u001b[0m \u001b[0mKeyboardInterrupt\u001b[0m\u001b[0;34m:\u001b[0m\u001b[0;34m\u001b[0m\u001b[0;34m\u001b[0m\u001b[0m\n\u001b[1;32m   1218\u001b[0m                 \u001b[0;31m# re-raise KeyboardInterrupt, to truncate traceback\u001b[0m\u001b[0;34m\u001b[0m\u001b[0;34m\u001b[0m\u001b[0m\n\u001b[0;32m-> 1219\u001b[0;31m                 \u001b[0;32mraise\u001b[0m \u001b[0mKeyboardInterrupt\u001b[0m\u001b[0;34m(\u001b[0m\u001b[0;34m\"Interrupted by user\"\u001b[0m\u001b[0;34m)\u001b[0m \u001b[0;32mfrom\u001b[0m \u001b[0;32mNone\u001b[0m\u001b[0;34m\u001b[0m\u001b[0;34m\u001b[0m\u001b[0m\n\u001b[0m\u001b[1;32m   1220\u001b[0m             \u001b[0;32mexcept\u001b[0m \u001b[0mException\u001b[0m\u001b[0;34m:\u001b[0m\u001b[0;34m\u001b[0m\u001b[0;34m\u001b[0m\u001b[0m\n\u001b[1;32m   1221\u001b[0m                 \u001b[0mself\u001b[0m\u001b[0;34m.\u001b[0m\u001b[0mlog\u001b[0m\u001b[0;34m.\u001b[0m\u001b[0mwarning\u001b[0m\u001b[0;34m(\u001b[0m\u001b[0;34m\"Invalid Message:\"\u001b[0m\u001b[0;34m,\u001b[0m \u001b[0mexc_info\u001b[0m\u001b[0;34m=\u001b[0m\u001b[0;32mTrue\u001b[0m\u001b[0;34m)\u001b[0m\u001b[0;34m\u001b[0m\u001b[0;34m\u001b[0m\u001b[0m\n",
            "\u001b[0;31mKeyboardInterrupt\u001b[0m: Interrupted by user"
          ]
        }
      ],
      "source": [
        "# Utilizei o comando de import para pegar a bibliotéca para graficos\n",
        "# Não esquecer de utilizar sempre o \\n quando eu quiser fazer uma quebra de linha.\n",
        "import matplotlib.pyplot as plt\n",
        "\n",
        "# O primeiro passo é definir a classe 'Livro'\n",
        "class Livro:\n",
        "    def __init__(self, titulo, autor, genero, quantidade):\n",
        "        self.titulo = titulo\n",
        "        self.autor = autor\n",
        "        self.genero = genero\n",
        "        self.quantidade = quantidade\n",
        "\n",
        "# O segundo passo é criar uma lista de livros\n",
        "biblioteca = []  # Estou deixando a lista vazia, aqui serão salvos os livros\n",
        "\n",
        "# O terceiro passo então, é uma função para cadastrar um novo livro\n",
        "def cadastrar_livro():\n",
        "    titulo = input(\"Digite o título do livro: \")\n",
        "    autor = input(\"Digite o autor do livro: \")\n",
        "    genero = input(\"Digite o gênero do livro: \")\n",
        "\n",
        "    while True:\n",
        "        try:\n",
        "            quantidade = int(input(\"Digite a quantidade disponível: \"))\n",
        "            if quantidade < 0:\n",
        "                print(\"Erro: A quantidade não pode ser negativa.\")\n",
        "            else:\n",
        "                break\n",
        "        except ValueError:\n",
        "            print(\"Erro: Entrada inválida. Digite um número inteiro.\")\n",
        "\n",
        "    novo_livro = Livro(titulo, autor, genero, quantidade)\n",
        "    biblioteca.append(novo_livro)\n",
        "    print(f\"Livro '{titulo}' foi cadastrado com sucesso!\\n\")\n",
        "\n",
        "# Aqui eu vou deixar uma função que vai servir para listar todos os livros\n",
        "def listar_livros():\n",
        "    if len(biblioteca) == 0:\n",
        "        print(\"Erro: Nenhum livro cadastrado na biblioteca.\\n\")\n",
        "    else:\n",
        "        print(\"\\n===== LISTA DE LIVROS =====\")\n",
        "        for livro in biblioteca:\n",
        "            print(f\"Título: {livro.titulo}, Autor: {livro.autor}, Gênero: {livro.genero}, Quantidade: {livro.quantidade}\")\n",
        "        print(\"===========================\\n\")\n",
        "\n",
        "# Aqui eu vou deixar uma função para buscar um livro pelo título\n",
        "def buscar_livro():\n",
        "    pesquisa = input(\"Digite o título do livro que deseja buscar: \").lower()\n",
        "    encontrados = [livro for livro in biblioteca if pesquisa in livro.titulo.lower()]\n",
        "\n",
        "    if len(encontrados) == 0:\n",
        "        print(\"Erro: Nenhum livro encontrado com esse título.\\n\")\n",
        "    else:\n",
        "        print(\"\\n===== LIVROS ENCONTRADOS =====\")\n",
        "        for livro in encontrados:\n",
        "            print(f\"Título: {livro.titulo}, Autor: {livro.autor}, Gênero: {livro.genero}, Quantidade: {livro.quantidade}\")\n",
        "        print(\"==============================\\n\")\n",
        "\n",
        "# Aqui eu vou deixar a função para gerar gráfico de quantidade de livros por gênero\n",
        "def gerar_grafico():\n",
        "    if len(biblioteca) == 0:\n",
        "        print(\"Erro: Nenhum livro cadastrado para gerar gráfico.\\n\")\n",
        "        return\n",
        "\n",
        "    # Nessa parte vou deixar algumas linhas que vão criar um dicionário para contar quantidade por gênero\n",
        "    genero_quantidade = {}\n",
        "    for livro in biblioteca:\n",
        "        if livro.genero in genero_quantidade:\n",
        "            genero_quantidade[livro.genero] += livro.quantidade\n",
        "        else:\n",
        "            genero_quantidade[livro.genero] = livro.quantidade\n",
        "\n",
        "    # O que vai fazer necessariamente um gráfico ser criado.\n",
        "    plt.figure(figsize=(8,5))\n",
        "    plt.bar(genero_quantidade.keys(), genero_quantidade.values(), color='skyblue')\n",
        "    plt.title(\"Quantidade de Livros por Gênero\")\n",
        "    plt.xlabel(\"Gênero\")\n",
        "    plt.ylabel(\"Quantidade\")\n",
        "    plt.show()\n",
        "\n",
        "# Código do programa em si:\n",
        "def main():\n",
        "    while True:\n",
        "        print(\"===== BIBLIOTECA DO ALBUQUERQUE =====\")\n",
        "        print(\"1. Cadastrar Livro\")\n",
        "        print(\"2. Listar Livros\")\n",
        "        print(\"3. Buscar Livro por Título\")\n",
        "        print(\"4. Gerar Gráfico de Livros por Gênero\")\n",
        "        print(\"5. Sair\")\n",
        "\n",
        "        escolha = input(\"Escolha uma opção: \")\n",
        "\n",
        "        if escolha == '1':\n",
        "            cadastrar_livro()\n",
        "        elif escolha == '2':\n",
        "            listar_livros()\n",
        "        elif escolha == '3':\n",
        "            buscar_livro()\n",
        "        elif escolha == '4':\n",
        "            gerar_grafico()\n",
        "        elif escolha == '5':\n",
        "            print(\"Saindo do sistema...\")\n",
        "            break\n",
        "        else:\n",
        "            print(\"Erro: Opção inválida. Tente novamente.\\n\")\n",
        "\n",
        "\n",
        "main()\n"
      ]
    }
  ],
  "metadata": {
    "colab": {
      "provenance": [],
      "authorship_tag": "ABX9TyMldrzdr08hS9lOfuQ7qvl5",
      "include_colab_link": true
    },
    "kernelspec": {
      "display_name": "Python 3",
      "name": "python3"
    },
    "language_info": {
      "name": "python"
    }
  },
  "nbformat": 4,
  "nbformat_minor": 0
}